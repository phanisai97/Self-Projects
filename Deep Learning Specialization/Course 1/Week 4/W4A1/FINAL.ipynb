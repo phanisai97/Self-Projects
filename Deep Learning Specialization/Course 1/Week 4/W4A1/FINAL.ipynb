{
 "cells": [
  {
   "cell_type": "markdown",
   "metadata": {},
   "source": [
    "**In this assignment, your goal is to implement and train a multi-layer perceptron (MLP) on the CIFAR- 10 dataset with data augmentation (Two hidden layers with 64 neurons each MLP model).**\n",
    "\n",
    "\n",
    " Ques 1 : **DownloadtheCIFAR-10dataset(https://www.cs.toronto.edu/~kriz/cifar.html).Hint: Use pickle library to load the dataset. [5 marks]**"
   ]
  },
  {
   "cell_type": "code",
   "execution_count": 1,
   "metadata": {},
   "outputs": [],
   "source": [
    "#Functions to Unpack and Load the Data using Pickle\n",
    "\n",
    "import pickle\n",
    "import numpy as np\n",
    "import math\n",
    "import matplotlib.pyplot as plt\n",
    "\n",
    "#Function for Unpacking Dataset using Pickle\n",
    "def unpickle(file):\n",
    "    with open(file, 'rb') as fo:\n",
    "        dict = pickle.load(fo, encoding='latin1')\n",
    "    return dict\n",
    "\n",
    "\n",
    "#Function for One Hot Encoding of Lables\n",
    "def label_mat(Y):\n",
    "  Y_onehot = np.copy(np.zeros((Y.shape[0],10)))\n",
    "  for i in range(Y.shape[0]):\n",
    "    k = np.copy(Y[i])\n",
    "    #print(type(k),k)\n",
    "    Y_onehot[i,k]=1\n",
    "  return np.copy(Y_onehot)"
   ]
  },
  {
   "cell_type": "code",
   "execution_count": 2,
   "metadata": {},
   "outputs": [
    {
     "ename": "FileNotFoundError",
     "evalue": "[Errno 2] No such file or directory: '/Users/hrushikesh_chunduri/Desktop/DLCV/data_batch_1'",
     "output_type": "error",
     "traceback": [
      "\u001b[0;31m---------------------------------------------------------------------------\u001b[0m",
      "\u001b[0;31mFileNotFoundError\u001b[0m                         Traceback (most recent call last)",
      "\u001b[0;32m<ipython-input-2-d2ca6b0e4c65>\u001b[0m in \u001b[0;36m<module>\u001b[0;34m\u001b[0m\n\u001b[1;32m      1\u001b[0m \u001b[0;31m#Unpacking Train Data\u001b[0m\u001b[0;34m\u001b[0m\u001b[0;34m\u001b[0m\u001b[0;34m\u001b[0m\u001b[0m\n\u001b[1;32m      2\u001b[0m \u001b[0mfile\u001b[0m \u001b[0;34m=\u001b[0m \u001b[0;34m\"/Users/hrushikesh_chunduri/Desktop/DLCV/data_batch_1\"\u001b[0m\u001b[0;34m\u001b[0m\u001b[0;34m\u001b[0m\u001b[0m\n\u001b[0;32m----> 3\u001b[0;31m \u001b[0mdb_1\u001b[0m \u001b[0;34m=\u001b[0m \u001b[0munpickle\u001b[0m\u001b[0;34m(\u001b[0m\u001b[0mfile\u001b[0m\u001b[0;34m)\u001b[0m\u001b[0;34m\u001b[0m\u001b[0;34m\u001b[0m\u001b[0m\n\u001b[0m\u001b[1;32m      4\u001b[0m \u001b[0;34m\u001b[0m\u001b[0m\n\u001b[1;32m      5\u001b[0m \u001b[0mfile\u001b[0m \u001b[0;34m=\u001b[0m \u001b[0;34m\"/Users/hrushikesh_chunduri/Desktop/DLCV/data_batch_2\"\u001b[0m\u001b[0;34m\u001b[0m\u001b[0;34m\u001b[0m\u001b[0m\n",
      "\u001b[0;32m<ipython-input-1-991ce6d242d8>\u001b[0m in \u001b[0;36munpickle\u001b[0;34m(file)\u001b[0m\n\u001b[1;32m      8\u001b[0m \u001b[0;31m#Function for Unpacking Dataset using Pickle\u001b[0m\u001b[0;34m\u001b[0m\u001b[0;34m\u001b[0m\u001b[0;34m\u001b[0m\u001b[0m\n\u001b[1;32m      9\u001b[0m \u001b[0;32mdef\u001b[0m \u001b[0munpickle\u001b[0m\u001b[0;34m(\u001b[0m\u001b[0mfile\u001b[0m\u001b[0;34m)\u001b[0m\u001b[0;34m:\u001b[0m\u001b[0;34m\u001b[0m\u001b[0;34m\u001b[0m\u001b[0m\n\u001b[0;32m---> 10\u001b[0;31m     \u001b[0;32mwith\u001b[0m \u001b[0mopen\u001b[0m\u001b[0;34m(\u001b[0m\u001b[0mfile\u001b[0m\u001b[0;34m,\u001b[0m \u001b[0;34m'rb'\u001b[0m\u001b[0;34m)\u001b[0m \u001b[0;32mas\u001b[0m \u001b[0mfo\u001b[0m\u001b[0;34m:\u001b[0m\u001b[0;34m\u001b[0m\u001b[0;34m\u001b[0m\u001b[0m\n\u001b[0m\u001b[1;32m     11\u001b[0m         \u001b[0mdict\u001b[0m \u001b[0;34m=\u001b[0m \u001b[0mpickle\u001b[0m\u001b[0;34m.\u001b[0m\u001b[0mload\u001b[0m\u001b[0;34m(\u001b[0m\u001b[0mfo\u001b[0m\u001b[0;34m,\u001b[0m \u001b[0mencoding\u001b[0m\u001b[0;34m=\u001b[0m\u001b[0;34m'latin1'\u001b[0m\u001b[0;34m)\u001b[0m\u001b[0;34m\u001b[0m\u001b[0;34m\u001b[0m\u001b[0m\n\u001b[1;32m     12\u001b[0m     \u001b[0;32mreturn\u001b[0m \u001b[0mdict\u001b[0m\u001b[0;34m\u001b[0m\u001b[0;34m\u001b[0m\u001b[0m\n",
      "\u001b[0;31mFileNotFoundError\u001b[0m: [Errno 2] No such file or directory: '/Users/hrushikesh_chunduri/Desktop/DLCV/data_batch_1'"
     ]
    }
   ],
   "source": [
    "#Unpacking Train Data\n",
    "file = \"/Users/hrushikesh_chunduri/Desktop/DLCV/data_batch_1\"\n",
    "db_1 = unpickle(file)\n",
    "\n",
    "file = \"/Users/hrushikesh_chunduri/Desktop/DLCV/data_batch_2\"\n",
    "db_2 = unpickle(file)\n",
    "\n",
    "file = \"/Users/hrushikesh_chunduri/Desktop/DLCV/data_batch_3\"\n",
    "db_3 = unpickle(file)\n",
    "\n",
    "file = \"/Users/hrushikesh_chunduri/Desktop/DLCV/data_batch_4\"\n",
    "db_4 = unpickle(file)\n",
    "\n",
    "file = \"/Users/hrushikesh_chunduri/Desktop/DLCV/data_batch_5\"\n",
    "db_5 = unpickle(file)\n",
    "\n",
    "#Loading Train Data \n",
    "X_train = np.copy([db_1['data'], db_2['data'], db_3['data'], db_4['data'], db_5['data']])\n",
    "X_train = np.copy(np.array(X_train))\n",
    "X_train = np.copy(np.vstack(X_train))\n",
    "print(\"Shape of Train Data:\",X_train.shape)\n",
    "\n",
    "#Loading Train Data Labels\n",
    "Y_train = np.copy([db_1['labels'], db_2['labels'], db_3['labels'], db_4['labels'], db_5['labels']])\n",
    "Y_train = np.copy(np.array(Y_train))\n",
    "Y_train = np.copy(Y_train.reshape(-1))\n",
    "\n",
    "#One Hot Encoding for Train Data Lables\n",
    "Y_train = np.copy(label_mat(Y_train))\n",
    "\n",
    "print(\"Shape of Lables for Train Data after One Hot Encoding:\",Y_train.shape)\n",
    "\n",
    "#Reshaping Train Data in Image Format\n",
    "X_train = np.copy(X_train.reshape(len(X_train),3,32,32).transpose(0,2,3,1))\n",
    "\n",
    "print(\"Shape of Image Format Train Data:\", X_train.shape)"
   ]
  },
  {
   "cell_type": "code",
   "execution_count": 17,
   "metadata": {},
   "outputs": [
    {
     "name": "stdout",
     "output_type": "stream",
     "text": [
      "Shape of Test Data: (10000, 3072)\n",
      "Shape of Lables for Test Data after One Hot Encoding: (10000, 10)\n",
      "Shape of Image Format Test Data: (10000, 32, 32, 3)\n"
     ]
    }
   ],
   "source": [
    "#Unpacking Test Data\n",
    "file = \"/Users/hrushikesh_chunduri/Desktop/DLCV/test_batch\"\n",
    "test = unpickle(file)\n",
    "\n",
    "#Loading Test Data\n",
    "X_test = np.copy(test['data'])\n",
    "print(\"Shape of Test Data:\",X_test.shape)\n",
    "\n",
    "#Loading Test Data Labels\n",
    "Y_test = np.copy(np.array(test['labels']))\n",
    "\n",
    "#One Hot Encoding for Test Data Lables\n",
    "Y_test = np.copy(label_mat(Y_test))\n",
    "print(\"Shape of Lables for Test Data after One Hot Encoding:\",Y_test.shape)\n",
    "\n",
    "#Reshaping Test Data in Image Format\n",
    "X_test = np.copy(X_test.reshape(len(X_test),3,32,32).transpose(0,2,3,1))\n",
    "print(\"Shape of Image Format Test Data:\", X_test.shape)"
   ]
  },
  {
   "cell_type": "markdown",
   "metadata": {},
   "source": [
    "**2. Implement the image transformation methods mentioned below: [5x4=20 marks]**"
   ]
  },
  {
   "cell_type": "markdown",
   "metadata": {},
   "source": [
    "*Ques 2(a): Image Enhancement*\n",
    "\n",
    "*Instruction for enhancing the image:*\n",
    "\n",
    "*for each pixel i in the image x use the formula :((i-min)/(max-min))∗255*\n",
    "\n",
    "*Here, min and max are the minimum and maximum pixel values in the image x.*"
   ]
  },
  {
   "cell_type": "code",
   "execution_count": 75,
   "metadata": {},
   "outputs": [
    {
     "name": "stdout",
     "output_type": "stream",
     "text": [
      "Example Image Before Enhancement AxesImage(54,36;334.8x217.44)\n"
     ]
    },
    {
     "data": {
      "image/png": "[encoded data removed]",
      "text/plain": [
       "<Figure size 432x288 with 1 Axes>"
      ]
     },
     "metadata": {
      "needs_background": "light"
     },
     "output_type": "display_data"
    }
   ],
   "source": [
    "print(\"Example Image Before Enhancement\",plt.imshow(X_train[50]))"
   ]
  },
  {
   "cell_type": "code",
   "execution_count": 76,
   "metadata": {},
   "outputs": [
    {
     "name": "stderr",
     "output_type": "stream",
     "text": [
      "Clipping input data to the valid range for imshow with RGB data ([0..1] for floats or [0..255] for integers).\n"
     ]
    },
    {
     "name": "stdout",
     "output_type": "stream",
     "text": [
      "Example Image After Enhancement AxesImage(54,36;334.8x217.44)\n"
     ]
    },
    {
     "data": {
      "image/png": "[encoded data removed]",
      "text/plain": [
       "<Figure size 432x288 with 1 Axes>"
      ]
     },
     "metadata": {
      "needs_background": "light"
     },
     "output_type": "display_data"
    }
   ],
   "source": [
    "#Function to implement Image Enhancement\n",
    "def IE(image):\n",
    "    min_val = np.min(image)\n",
    "    max_val = np.max(image)\n",
    "    image = ((image-min_val) / (max_val-min_val) * 255)\n",
    "    return image\n",
    "print(\"Example Image After Enhancement\",plt.imshow(IE(X_train[50])))"
   ]
  },
  {
   "cell_type": "code",
   "execution_count": null,
   "metadata": {},
   "outputs": [],
   "source": []
  },
  {
   "cell_type": "markdown",
   "metadata": {},
   "source": [
    "*2(b): Posterization of Image (A posterizing image is the one in which you reduce the number of colors in the image to provide a visual art).*\n",
    "\n",
    "*Follow the instructions below to posterize the image:*\n",
    "\n",
    "*Select a desired minimum and maximum pixel value in the range of [0-255].*\n",
    "\n",
    "*Now, for each pixel i in image x:*\n",
    "\n",
    "    i. Calculate the range r by subtracting selected minimum and maximum pixel value\n",
    "    \n",
    "    ii: Get a Divider for the colors using divider = 255/r\n",
    "    \n",
    "    iii: Get the level of colors by i = i/divider\n",
    "    \n",
    "    iv: Finally, Apply the Color Palette on the pixel by i = i + min\n",
    "    \n",
    " *Make sure, the final image x should have the pixel values in the range of [0,255]*   \n",
    "    "
   ]
  },
  {
   "cell_type": "code",
   "execution_count": 86,
   "metadata": {},
   "outputs": [],
   "source": [
    "# Function for Posterization of Image\n",
    "def PoI(image):  \n",
    "    return image\n",
    "\n",
    "                    "
   ]
  },
  {
   "cell_type": "code",
   "execution_count": null,
   "metadata": {},
   "outputs": [],
   "source": []
  },
  {
   "cell_type": "code",
   "execution_count": null,
   "metadata": {},
   "outputs": [],
   "source": []
  },
  {
   "cell_type": "code",
   "execution_count": null,
   "metadata": {},
   "outputs": [],
   "source": []
  },
  {
   "cell_type": "code",
   "execution_count": null,
   "metadata": {},
   "outputs": [],
   "source": []
  },
  {
   "cell_type": "code",
   "execution_count": null,
   "metadata": {},
   "outputs": [],
   "source": []
  },
  {
   "cell_type": "code",
   "execution_count": null,
   "metadata": {},
   "outputs": [],
   "source": []
  },
  {
   "cell_type": "markdown",
   "metadata": {},
   "source": [
    "*2(c) Random Rotate [-180◦, 180◦].*"
   ]
  },
  {
   "cell_type": "code",
   "execution_count": 73,
   "metadata": {},
   "outputs": [
    {
     "name": "stdout",
     "output_type": "stream",
     "text": [
      "Image before Rotation AxesImage(54,36;334.8x217.44)\n"
     ]
    },
    {
     "data": {
      "image/png": "[encoded data removed]",
      "text/plain": [
       "<Figure size 432x288 with 1 Axes>"
      ]
     },
     "metadata": {
      "needs_background": "light"
     },
     "output_type": "display_data"
    }
   ],
   "source": [
    "print(\"Image before Rotation\",plt.imshow(X_train[100]))"
   ]
  },
  {
   "cell_type": "code",
   "execution_count": 74,
   "metadata": {},
   "outputs": [
    {
     "name": "stdout",
     "output_type": "stream",
     "text": [
      "Image after Rotation AxesImage(54,36;334.8x217.44)\n"
     ]
    },
    {
     "data": {
      "image/png": "[encoded data removed]",
      "text/plain": [
       "<Figure size 432x288 with 1 Axes>"
      ]
     },
     "metadata": {
      "needs_background": "light"
     },
     "output_type": "display_data"
    }
   ],
   "source": [
    "#Function for Random Rotation of Image\n",
    "def Rotate(image):\n",
    "  rotate = np.random.randint(-180,180)\n",
    "  Rdn = math.radians(rotate)\n",
    "  image_n = np.copy(np.uint8(np.zeros(image.shape)))\n",
    "  Ht,Wt = (image_n.shape[0],image_n.shape[1])\n",
    "  Cx,Cy = (Wt//2,Ht//2)\n",
    "\n",
    "  for i in range(image_n.shape[0]):\n",
    "    for j in range(image_n.shape[1]):\n",
    "      a = (i-Cx)*math.cos(Rdn)+(j-Cy)*math.sin(Rdn)\n",
    "      b = -(i-Cx)*math.sin(Rdn)+(j-Cy)*math.cos(Rdn)\n",
    "        \n",
    "      a= round(a)+Cx\n",
    "      b= round(b)+Cy\n",
    "\n",
    "      if(a>=0 and b>=0 and a<image.shape[0] and b<image.shape[1]):\n",
    "        image_n[i,j,:] = image[a,b,:]\n",
    "\n",
    "  return image_n\n",
    "\n",
    "print(\"Image after Rotation\",plt.imshow(Rotate(X_train[100])))"
   ]
  },
  {
   "cell_type": "markdown",
   "metadata": {},
   "source": [
    "*2(d) Contrast & Horizontal flipping. (First, change the contrast of the image with a factor of\n",
    "α randomly selected from the range (0.5, 2.0) and then flip the image horizontally with a\n",
    "probability of 0.5)*\n",
    "\n",
    "*Instructions for changing contrast of an image:*\n",
    "\n",
    "*Given an image x with pixel values in range [0, 255], you can change its contrast by a factor\n",
    "of α using the following steps:*\n",
    "\n",
    "*i:Change all the pixel values with formula x ′ (i, j, c) = α ·(x (i, j, c) − 128) + 128. \n",
    "Here, x(i, j, c) refers to the c-th channel value of the (i, j)-th pixel.*\n",
    "\n",
    "*ii: Clip the pixel values in x ′ so that the final values are in the range [0, 255]*\n",
    "\n",
    "*Note: that α < 1 will decrease the contrast of the image while α > 1 will increase the\n",
    "contrast.*\n"
   ]
  },
  {
   "cell_type": "code",
   "execution_count": 81,
   "metadata": {},
   "outputs": [
    {
     "name": "stdout",
     "output_type": "stream",
     "text": [
      "Image before Contrast and Horizontal Flip AxesImage(54,36;334.8x217.44)\n"
     ]
    },
    {
     "data": {
      "image/png": "[encoded data removed]",
      "text/plain": [
       "<Figure size 432x288 with 1 Axes>"
      ]
     },
     "metadata": {
      "needs_background": "light"
     },
     "output_type": "display_data"
    }
   ],
   "source": [
    "print(\"Image before Contrast and Horizontal Flip\",plt.imshow(X_train[150]))"
   ]
  },
  {
   "cell_type": "code",
   "execution_count": 83,
   "metadata": {},
   "outputs": [
    {
     "name": "stdout",
     "output_type": "stream",
     "text": [
      "Image after Contrast and Horizontal Flip AxesImage(54,36;334.8x217.44)\n"
     ]
    },
    {
     "data": {
      "image/png": "[encoded data removed]",
      "text/plain": [
       "<Figure size 432x288 with 1 Axes>"
      ]
     },
     "metadata": {
      "needs_background": "light"
     },
     "output_type": "display_data"
    }
   ],
   "source": [
    "#Function for Contrast and Horizontal Flip\n",
    "def CHFlip(image):\n",
    "  alpha = np.random.uniform(0.5,2.0)\n",
    "  image_n = np.zeros(image.shape, image.dtype)\n",
    "  for i in range(image.shape[0]):\n",
    "    for j in range(image.shape[1]):\n",
    "      for c in range(image.shape[2]):\n",
    "        image_n[i,j,c] = alpha*(image[i,j,c]-128) + 128\n",
    "        image_n = np.clip(image_n, 0, 255)\n",
    "  image_n = image_n[:, ::-1, :]\n",
    "  return image_n\n",
    "\n",
    "print(\"Image after Contrast and Horizontal Flip\",plt.imshow(CHFlip(X_train[150])))"
   ]
  },
  {
   "cell_type": "markdown",
   "metadata": {},
   "source": [
    "*3: Create the augmented training set using the transformation functions implemented in the previous part. Randomly select one of the four transformations for each image in the training set and apply it to that image.*\n",
    "\n",
    "*Combine the transformed images with original training set to get the augmented training set.* \n",
    "\n",
    "*Note that the number of examples for the augmented training set will be twice that of the unaugmented training set. [10 marks]*"
   ]
  },
  {
   "cell_type": "code",
   "execution_count": null,
   "metadata": {},
   "outputs": [],
   "source": [
    "#Randomly select Image Transformations done in Ques 2[a,b,c,d] and Generate a Augmented Training Dataset\n",
    "\n",
    "T_m = [IE, PoI, Rotate, CHFlip]\n",
    "T_i = []\n",
    "print(\"Selecting Random Image Transformations and generating Transformed Images \")\n",
    "for a in range(len(X_train)):\n",
    "  temp = X_train[a]\n",
    "  T_i.append(np.random.choice(T_m)(temp))\n",
    "\n",
    "print(\"Generating Augmented Train Data\")\n",
    "\n",
    "T_i = np.array(T_i)\n",
    "AugX_Train = np.concatenate((X_train, T_i))\n",
    "AugY_train = np.concatenate((Y_train,Y_train))\n",
    "\n",
    "print(\"Shape of Image Format Augmented Train Data:\", AugX_Train.shape)\n",
    "print(\"Shape of Lables for Augmented Train Data after One Hot Encoding:\",AugY_train.shape)\n"
   ]
  },
  {
   "cell_type": "markdown",
   "metadata": {},
   "source": [
    "*4: Use the feature extractor.py file provided with the assignment on the original (unaugmented) CIFAR-10 dataset and on the augmented dataset to get 1-dimensional input vectors.* \n",
    "\n",
    "*You can ignore the implementation of feature extractor.py and use it directly. [10 Marks]*"
   ]
  },
  {
   "cell_type": "markdown",
   "metadata": {},
   "source": [
    "*Instructions for using feature-extractor.py:*\n",
    "\n",
    "*• Refer to this page : https://pytorch.org/get-started/locally/ for installing the required dependencies of PyTorch. However, if you are using Google Colab or Kaggle for running your code then you do not need to install PyTorch there, as these environments supports PyTorch.*\n",
    "\n",
    "*• The feature extractor.py accepts images of size (3×224×224) [Channel×Height×Width]. Use image processing libraries like PIL, CV2 to resize the CIFAR images from (3×32×32) to (3 × 224 × 224).*\n",
    "\n",
    "*• Pass the resized images to feature extraction function of BBResNet18 class to generate feature vectors*\n",
    "\n",
    "*• feature extraction: function expects each image is a numpy.ndarray of dtype: numpy.float32 and shape: [None, 3, 224, 224], where: None represents a variable size. It returns a numpy.ndarray of dtype: numpy.float32 and shape: [None, 512].*"
   ]
  },
  {
   "cell_type": "code",
   "execution_count": null,
   "metadata": {},
   "outputs": [],
   "source": [
    "pip install opencv-python"
   ]
  },
  {
   "cell_type": "code",
   "execution_count": null,
   "metadata": {},
   "outputs": [],
   "source": [
    "Need to get clarity\n",
    "\n",
    "\n",
    "import feature_extractor as Feature\n",
    "\n",
    "\n",
    "FM = fe.BBResNet18()\n",
    "fv=[]\n",
    "for i in range(len(X_train)//1000):\n",
    "  batch = []\n",
    "  for j in range(1000):\n",
    "    batch.append(X_train[i])\n",
    "  batch = np.copy(np.array(batch))\n",
    "  re = np.copy(batch.astype('float32')/255)\n",
    "  re = [cv2.resize(img,(224,224)) for img in re]\n",
    "  re = np.copy(np.stack(re, axis=0))\n",
    "  print(i)\n",
    "  re = np.copy(re.transpose(0,3,1,2))\n",
    "  fe_ext = FM.feature_extraction(re)\n",
    "  fv.append(fe_ext)"
   ]
  }
 ],
 "metadata": {
  "kernelspec": {
   "display_name": "Python 3",
   "language": "python",
   "name": "python3"
  },
  "language_info": {
   "codemirror_mode": {
    "name": "ipython",
    "version": 3
   },
   "file_extension": ".py",
   "mimetype": "text/x-python",
   "name": "python",
   "nbconvert_exporter": "python",
   "pygments_lexer": "ipython3",
   "version": "3.7.6"
  },
  "vscode": {
   "interpreter": {
    "hash": "aee8b7b246df8f9039afb4144a1f6fd8d2ca17a180786b69acc140d282b71a49"
   }
  }
 },
 "nbformat": 4,
 "nbformat_minor": 4
}
